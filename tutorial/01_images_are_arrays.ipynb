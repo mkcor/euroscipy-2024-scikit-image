{
 "cells": [
  {
   "cell_type": "code",
   "execution_count": null,
   "id": "7e38d363",
   "metadata": {
    "tags": [
     "remove-input",
     "remove-output"
    ]
   },
   "outputs": [],
   "source": [
    "%config InlineBackend.figure_format = 'retina'"
   ]
  },
  {
   "cell_type": "code",
   "execution_count": null,
   "id": "1b6b21d2",
   "metadata": {},
   "outputs": [],
   "source": [
    "import numpy as np\n",
    "print(f'NumPy {np.__version__}')\n",
    "\n",
    "import skimage as ski\n",
    "print(f'skimage {ski.__version__}')"
   ]
  },
  {
   "cell_type": "markdown",
   "id": "4a90b3fc",
   "metadata": {},
   "source": [
    "*Note: NumPy 2.0 was released recently. scikit-image 0.24 is compatible.*"
   ]
  },
  {
   "cell_type": "markdown",
   "id": "3b75e319",
   "metadata": {},
   "source": [
    "⚠️ Note the import convention above: `import skimage as ski`. If you forget to import `skimage`, all the examples below will fail to execute!"
   ]
  },
  {
   "cell_type": "markdown",
   "id": "368c2a3f",
   "metadata": {},
   "source": [
    "# Part 1: Images are numpy arrays"
   ]
  },
  {
   "cell_type": "markdown",
   "id": "ce9fc29d",
   "metadata": {},
   "source": [
    "Images are represented in ``scikit-image`` using standard ``numpy`` arrays.  This allows maximum inter-operability with other libraries in the scientific Python ecosystem, such as ``matplotlib`` and ``scipy``.\n",
    "\n",
    "Let's see how to build a grayscale image as a 2D array:"
   ]
  },
  {
   "cell_type": "code",
   "execution_count": null,
   "id": "94329079",
   "metadata": {},
   "outputs": [],
   "source": [
    "import matplotlib.pyplot as plt"
   ]
  },
  {
   "cell_type": "code",
   "execution_count": null,
   "id": "c687e7f1",
   "metadata": {},
   "outputs": [],
   "source": [
    "rng = np.random.default_rng(44)\n",
    "random_image = rng.random([500, 500])\n",
    "random_image.shape, random_image.dtype"
   ]
  },
  {
   "cell_type": "code",
   "execution_count": null,
   "id": "c1146032",
   "metadata": {},
   "outputs": [],
   "source": [
    "plt.imshow(random_image, cmap='gray')\n",
    "plt.colorbar();"
   ]
  },
  {
   "cell_type": "markdown",
   "id": "ee57211e",
   "metadata": {},
   "source": [
    "The same holds for \"real-world\" images:"
   ]
  },
  {
   "cell_type": "code",
   "execution_count": null,
   "id": "65cd2316",
   "metadata": {},
   "outputs": [],
   "source": [
    "coins = ski.data.coins()\n",
    "\n",
    "print('Type:', type(coins))\n",
    "print('dtype:', coins.dtype)\n",
    "print('shape:', coins.shape)\n",
    "\n",
    "plt.imshow(coins, cmap='gray');"
   ]
  },
  {
   "cell_type": "markdown",
   "id": "edba3d6a",
   "metadata": {},
   "source": [
    "A color image is a 3D array, where the last dimension has size 3 and represents the red, green, and blue channels:"
   ]
  },
  {
   "cell_type": "code",
   "execution_count": null,
   "id": "2a01dd9a",
   "metadata": {},
   "outputs": [],
   "source": [
    "cat = ski.data.chelsea()\n",
    "\n",
    "print(\"Shape:\", cat.shape)\n",
    "print(\"Values min/max:\", cat.min(), cat.max())\n",
    "\n",
    "plt.imshow(cat);"
   ]
  },
  {
   "cell_type": "markdown",
   "id": "9202ec98",
   "metadata": {},
   "source": [
    "These are *just NumPy arrays*. E.g., we can make a red square by using standard array slicing and manipulation:"
   ]
  },
  {
   "cell_type": "code",
   "execution_count": null,
   "id": "87e00c39",
   "metadata": {},
   "outputs": [],
   "source": [
    "cat[10:110, 10:110, :] = [255, 0, 0]  # [red, green, blue]\n",
    "plt.imshow(cat);"
   ]
  },
  {
   "cell_type": "markdown",
   "id": "b53dcfa3",
   "metadata": {},
   "source": [
    "Images can also include transparent regions by adding a 4th channel, called an *alpha layer*."
   ]
  },
  {
   "cell_type": "markdown",
   "id": "883377e8",
   "metadata": {},
   "source": [
    "## Other shapes, and their meanings\n",
    "\n",
    "|Image type|Coordinates|\n",
    "|:---|:---|\n",
    "|2D grayscale|(row, column)|\n",
    "|2D multichannel|(row, column, channel)|\n",
    "|3D grayscale (or volumetric) |(plane, row, column)|\n",
    "|3D multichannel|(plane, row, column, channel)|"
   ]
  },
  {
   "cell_type": "markdown",
   "id": "e397d174",
   "metadata": {},
   "source": [
    "## Displaying images using matplotlib"
   ]
  },
  {
   "cell_type": "code",
   "execution_count": null,
   "id": "e42c1764",
   "metadata": {},
   "outputs": [],
   "source": [
    "img0 = ski.data.chelsea()\n",
    "img1 = ski.data.rocket()"
   ]
  },
  {
   "cell_type": "code",
   "execution_count": null,
   "id": "1addf11c",
   "metadata": {},
   "outputs": [],
   "source": [
    "import matplotlib.pyplot as plt\n",
    "\n",
    "f, (ax0, ax1) = plt.subplots(1, 2, figsize=(20, 10))\n",
    "\n",
    "ax0.imshow(img0)\n",
    "ax0.set_title('Cat', fontsize=18)\n",
    "ax0.axis('off')\n",
    "\n",
    "ax1.imshow(img1)\n",
    "ax1.set_title('Rocket', fontsize=18)\n",
    "ax1.set_xlabel(r'Launching position $\\alpha=320$')\n",
    "\n",
    "ax1.vlines([202, 300], 0, img1.shape[0], colors='magenta', linewidth=3, label='Side tower position')\n",
    "ax1.plot([168, 190, 200], [400, 200, 300], color='white', linestyle='--', label='Side angle')\n",
    "\n",
    "ax1.legend();"
   ]
  },
  {
   "cell_type": "markdown",
   "id": "f72befe1",
   "metadata": {},
   "source": [
    "For more on plotting, see the [Matplotlib documentation](https://matplotlib.org/gallery/index.html#images-contours-and-fields) and [pyplot API](https://matplotlib.org/api/pyplot_summary.html)."
   ]
  },
  {
   "cell_type": "markdown",
   "id": "b71653c9",
   "metadata": {},
   "source": [
    "## Data types and image values\n",
    "\n",
    "In literature, one finds different conventions for representing image values:\n",
    "\n",
    "```\n",
    "  0 - 255   where  0 is black, 255 is white\n",
    "  0 - 1     where  0 is black, 1 is white\n",
    "```\n",
    "\n",
    "``scikit-image`` supports both conventions—the choice is determined by the\n",
    "data-type of the array.\n",
    "\n",
    "E.g., here, I generate two valid images:"
   ]
  },
  {
   "cell_type": "code",
   "execution_count": null,
   "id": "4bc1d4a0",
   "metadata": {},
   "outputs": [],
   "source": [
    "linear0 = np.linspace(0, 1, 2500).reshape((50, 50))\n",
    "linear1 = np.linspace(0, 255, 2500).reshape((50, 50)).astype(np.uint8)\n",
    "\n",
    "print(\"Linear0:\", linear0.dtype, linear0.min(), linear0.max())\n",
    "print(\"Linear1:\", linear1.dtype, linear1.min(), linear1.max())\n",
    "\n",
    "fig, (ax0, ax1) = plt.subplots(1, 2, figsize=(15, 15))\n",
    "ax0.imshow(linear0, cmap='gray')\n",
    "ax1.imshow(linear1, cmap='gray');"
   ]
  },
  {
   "cell_type": "markdown",
   "id": "5a171ee7",
   "metadata": {},
   "source": [
    "When we first designed the library, we always *assumed* that floating type images go from 0-1, and unsigned bytes from 0 to 255.\n",
    "\n",
    "For floating point images, we're moving away from that design, because often you want to represent quantities that don't fit that mold: e.g., you may be looking at temperature or rainfall data.\n",
    "\n",
    "If you're just working with standard imaging data, continue to use 0-1.\n",
    "\n",
    "When loading integer images (e.g., 0-255), you'll often want to convert those to floating point (0-1). You may do that using `img_as_float`:"
   ]
  },
  {
   "cell_type": "code",
   "execution_count": null,
   "id": "979aff31",
   "metadata": {},
   "outputs": [],
   "source": [
    "cat = ski.data.chelsea()\n",
    "print(cat.dtype, cat.min(), cat.max())\n",
    "\n",
    "cat_float = ski.util.img_as_float(cat)\n",
    "print(cat_float.dtype, cat_float.min(), cat_float.max())\n",
    "\n",
    "print()\n",
    "print(\"231/255 =\", 231/255.)"
   ]
  },
  {
   "cell_type": "markdown",
   "id": "7b076fc0",
   "metadata": {},
   "source": [
    "## Image I/O\n",
    "\n",
    "Mostly, we won't be using images from the scikit-image example data sets, but images stored on disk in JPEG, PNG, or TIFF format.  Since scikit-image operates on NumPy arrays, *any* image reader library that returns arrays will do.  We recommend `imageio`, but `matplotlib`, `pillow`, etc. also work.\n",
    "\n",
    "scikit-image provides a convenience wrapper around `image`, in the form of the `skimage.io` submodule:"
   ]
  },
  {
   "cell_type": "code",
   "execution_count": null,
   "id": "1b9731d8",
   "metadata": {},
   "outputs": [],
   "source": [
    "image = ski.io.imread('./data/balloon.jpg')\n",
    "\n",
    "print(type(image))\n",
    "print(image.dtype)\n",
    "print(image.shape)\n",
    "print(image.min(), image.max())\n",
    "\n",
    "plt.imshow(image);"
   ]
  },
  {
   "cell_type": "markdown",
   "id": "b7bb074e",
   "metadata": {},
   "source": [
    "We also have the ability to load multiple images from a folder:"
   ]
  },
  {
   "cell_type": "code",
   "execution_count": null,
   "id": "18a531b7",
   "metadata": {},
   "outputs": [],
   "source": [
    "ic = ski.io.ImageCollection(['./*.png', './data/*.png', './data/*.jpg'])\n",
    "\n",
    "print('Type:', type(ic))\n",
    "\n",
    "ic.files"
   ]
  },
  {
   "cell_type": "code",
   "execution_count": null,
   "id": "79f02ae2",
   "metadata": {},
   "outputs": [],
   "source": [
    "import os\n",
    "\n",
    "def plot_collection(ic : ski.io.ImageCollection):\n",
    "    \"\"\"Display images in an ImageCollection in a grid.\n",
    "\n",
    "    \"\"\"\n",
    "    f, axes = plt.subplots(ncols=3, nrows=int(np.ceil(len(ic) / 3)))\n",
    "\n",
    "    # subplots returns the figure and an array of axes\n",
    "    # we use `axes.ravel()` to turn these into a list\n",
    "    axes = axes.ravel()\n",
    "\n",
    "    for ax in axes:\n",
    "        # Hide axis labels\n",
    "        ax.axis('off')\n",
    "\n",
    "    for i, image in enumerate(ic):\n",
    "        axes[i].imshow(image, cmap='gray')\n",
    "        axes[i].set_title(os.path.basename(ic.files[i]))\n",
    "    \n",
    "    plt.tight_layout()"
   ]
  },
  {
   "cell_type": "code",
   "execution_count": null,
   "id": "e468d1ad",
   "metadata": {},
   "outputs": [],
   "source": [
    "plot_collection(ic)"
   ]
  },
  {
   "cell_type": "markdown",
   "id": "c5ca3fc9",
   "metadata": {
    "jp-MarkdownHeadingCollapsed": true
   },
   "source": [
    "### Aside: `enumerate`\n",
    "\n",
    "`enumerate` gives us each element in a container, along with its position."
   ]
  },
  {
   "cell_type": "code",
   "execution_count": null,
   "id": "bc6bbc9f",
   "metadata": {},
   "outputs": [],
   "source": [
    "animals = ['cat', 'dog', 'leopard']"
   ]
  },
  {
   "cell_type": "code",
   "execution_count": null,
   "id": "ad666899",
   "metadata": {},
   "outputs": [],
   "source": [
    "for i, animal in enumerate(animals):\n",
    "    print('The animal in position {} is {}'.format(i, animal))"
   ]
  },
  {
   "cell_type": "markdown",
   "id": "bd3f5b7b",
   "metadata": {},
   "source": [
    "## Exercise 1: draw the letter H\n",
    "\n",
    "Define a function that takes as input an RGB image (shape `MxNx3`) and a pair of coordinates, `(row, column)`, and returns a copy with a green letter H overlaid at those coordinates. The coordinates point to the top-left corner of the H.\n",
    "\n",
    "The arms and strut of the H should have a thickness of 3 pixels, and the H itself should have a height of 24 pixels and width of 20 pixels.\n",
    "\n",
    "Start with the following template:"
   ]
  },
  {
   "cell_type": "code",
   "execution_count": null,
   "id": "446492c0",
   "metadata": {
    "tags": [
     "hide-output"
    ]
   },
   "outputs": [],
   "source": [
    "def draw_H(image, coords, color=(0, 255, 0)):\n",
    "    out = image.copy()\n",
    "    \n",
    "    ...\n",
    "    \n",
    "    return out "
   ]
  },
  {
   "cell_type": "markdown",
   "id": "5b2e2e3c",
   "metadata": {},
   "source": [
    "Test your function like so:"
   ]
  },
  {
   "cell_type": "code",
   "execution_count": null,
   "id": "1e5d07f4",
   "metadata": {
    "tags": [
     "remove-output"
    ]
   },
   "outputs": [],
   "source": [
    "cat = ski.data.chelsea()\n",
    "cat_H = draw_H(cat, (50, -50))\n",
    "plt.imshow(cat_H);"
   ]
  },
  {
   "cell_type": "markdown",
   "id": "9b8abd85",
   "metadata": {},
   "source": [
    "## <span class=\"exercize\">Exercise 2: visualizing RGB channels</span>\n",
    "\n",
    "Display the different color channels of the image (each as a gray-scale image).  Start with the following template:"
   ]
  },
  {
   "cell_type": "code",
   "execution_count": null,
   "id": "b3bf66f5",
   "metadata": {
    "tags": [
     "raises-exception",
     "remove-output"
    ]
   },
   "outputs": [],
   "source": [
    "# --- read in the image ---\n",
    "\n",
    "image = plt.imread('./data/Bells-Beach.jpg')\n",
    "\n",
    "# --- assign each color channel to a different variable ---\n",
    "\n",
    "r = ...  # FIXME: grab channel from image...\n",
    "g = ...  # FIXME\n",
    "b = ...  # FIXME\n",
    "\n",
    "# --- display the image and r, g, b channels ---\n",
    "f, axes = plt.subplots(1, 4, figsize=(16, 5))\n",
    "\n",
    "for ax in axes:\n",
    "    ax.axis('off')\n",
    "\n",
    "(ax_r, ax_g, ax_b, ax_color) = axes\n",
    "\n",
    "ax_r.imshow(r, cmap='gray')\n",
    "ax_r.set_title('red channel')\n",
    "\n",
    "ax_g.imshow(g, cmap='gray')\n",
    "ax_g.set_title('green channel')\n",
    "\n",
    "ax_b.imshow(b, cmap='gray')\n",
    "ax_b.set_title('blue channel')\n",
    "\n",
    "# --- Here, we stack the R, G, and B layers again\n",
    "#     to form a color image ---\n",
    "ax_color.imshow(np.stack([r, g, b], axis=2))\n",
    "ax_color.set_title('all channels');"
   ]
  },
  {
   "cell_type": "markdown",
   "id": "9ef91540",
   "metadata": {},
   "source": [
    "Now, take a look at the following R, G, and B channels.  How would their combination look? (Write some code to confirm your intuition.)"
   ]
  },
  {
   "cell_type": "code",
   "execution_count": null,
   "id": "c5cd38cd",
   "metadata": {},
   "outputs": [],
   "source": [
    "red = np.zeros((300, 300))\n",
    "green = np.zeros((300, 300))\n",
    "blue = np.zeros((300, 300))\n",
    "\n",
    "r, c = ski.draw.disk(center=(100, 100), radius=100)\n",
    "red[r, c] = 1\n",
    "\n",
    "r, c = ski.draw.disk(center=(100, 200), radius=100)\n",
    "green[r, c] = 1\n",
    "\n",
    "r, c = ski.draw.disk(center=(200, 150), radius=100)\n",
    "blue[r, c] = 1\n",
    "\n",
    "f, axes = plt.subplots(1, 3)\n",
    "for (ax, channel, name) in zip(axes, [red, green, blue], ['red', 'green', 'blue']):\n",
    "    ax.imshow(channel, cmap='gray')\n",
    "    ax.set_title(f'{name} channel')\n",
    "    ax.axis('off')"
   ]
  },
  {
   "cell_type": "markdown",
   "id": "203d7093",
   "metadata": {},
   "source": [
    "## Exercise 3: Convert to grayscale (\"black and white\")\n",
    "\n",
    "The *relative luminance* of an image is the intensity of light coming from each point. Different colors contribute differently to the luminance: it's very hard to have a bright, pure blue, for example. So, starting from an RGB image, the luminance is given by:\n",
    "\n",
    "$$\n",
    "Y = 0.2126R + 0.7152G + 0.0722B\n",
    "$$\n",
    "\n",
    "Use Python 3.5's matrix multiplication, `@`, to convert an RGB image to a grayscale (luminance) image according to the formula above.\n",
    "\n",
    "Compare your results to that obtained with `skimage.color.rgb2gray`.\n",
    "\n",
    "Change the coefficients above to be 1/3 (i.e., take the mean of the red, green, and blue channels), to see how that approach compares with `rgb2gray`."
   ]
  },
  {
   "cell_type": "code",
   "execution_count": null,
   "id": "ef114680",
   "metadata": {
    "tags": [
     "raises-exception",
     "remove-output"
    ]
   },
   "outputs": [],
   "source": [
    "image = ski.img_as_float(ski.io.imread('./data/balloon.jpg'))\n",
    "\n",
    "gray = ski.color.rgb2gray(image)\n",
    "my_gray = ...  # FIXME; compute R, G, B average here\n",
    "\n",
    "# --- display the results ---\n",
    "f, (ax0, ax1) = plt.subplots(1, 2, figsize=(10, 6))\n",
    "\n",
    "ax0.imshow(gray, cmap='gray')\n",
    "ax0.set_title('skimage.color.rgb2gray')\n",
    "\n",
    "ax1.imshow(my_gray, cmap='gray')\n",
    "ax1.set_title('my rgb2gray')"
   ]
  }
 ],
 "metadata": {
  "jupytext": {
   "formats": "ipynb,md:myst",
   "text_representation": {
    "extension": ".md",
    "format_name": "myst",
    "format_version": 0.13,
    "jupytext_version": "1.16.2"
   }
  },
  "kernelspec": {
   "display_name": "Python 3 (ipykernel)",
   "language": "python",
   "name": "python3"
  },
  "language_info": {
   "codemirror_mode": {
    "name": "ipython",
    "version": 3
   },
   "file_extension": ".py",
   "mimetype": "text/x-python",
   "name": "python",
   "nbconvert_exporter": "python",
   "pygments_lexer": "ipython3",
   "version": "3.11.3"
  },
  "source_map": [
   15,
   22,
   28,
   32,
   36,
   40,
   46,
   51,
   57,
   60,
   64,
   72,
   76,
   83,
   87,
   90,
   94,
   105,
   109,
   114,
   131,
   135,
   151,
   161,
   171,
   180,
   188,
   197,
   201,
   209,
   233,
   237,
   243,
   247,
   250,
   260,
   269,
   273,
   279,
   285,
   319,
   323,
   342,
   358
  ]
 },
 "nbformat": 4,
 "nbformat_minor": 5
}
